{
 "cells": [
  {
   "cell_type": "markdown",
   "metadata": {},
   "source": [
    "# Exemplo Backward Selection\n",
    "\n",
    "A busca começa com todos os atributos disponíveis no conjunto de dados.\n",
    "Gradualmente, atributos são removidos um a um.\n",
    "Em cada passo, avaliamos o desempenho do modelo para decidir qual atributo remover.\n",
    "\n",
    "## Conjunto de Dados\n",
    "\n",
    "Criamos um conjunto artificial com 4 atributos A, B, C e D e uma variável de saída binária.\n",
    "\n",
    "## Backward Selection\n",
    "\n",
    "A função backward_selection começa com todos os atributos e, em cada iteração, remove aquele que resulta na menor perda, ou maior ganho, de acurácia.\n",
    "\n",
    "## Modelo de Classificação\n",
    "\n",
    "Usamos uma regressão logística para avaliar o desempenho em cada subconjunto de atributos.\n",
    "\n",
    "## Acurácia\n",
    "\n",
    "Acurácia é uma métrica de avaliação amplamente utilizada em aprendizado de máquina e estatística para medir o desempenho de um modelo, especialmente em problemas de classificação. Ela indica a proporção de previsões corretas realizadas pelo modelo em relação ao número total de previsões.\n",
    "\n",
    "A acurácia é uma métrica adequada quando:\n",
    "\n",
    "As classes estão balanceadas (ou seja, possuem aproximadamente o mesmo número de exemplos) ou todos os tipos de erro têm o mesmo custo ou impacto no problema."
   ]
  },
  {
   "cell_type": "code",
   "execution_count": 101,
   "metadata": {},
   "outputs": [],
   "source": [
    "import pandas as pd\n",
    "import numpy as np"
   ]
  },
  {
   "cell_type": "code",
   "execution_count": 102,
   "metadata": {},
   "outputs": [],
   "source": [
    "from sklearn.model_selection import train_test_split\n",
    "from sklearn.linear_model import LogisticRegression\n",
    "from sklearn.metrics import accuracy_score"
   ]
  },
  {
   "cell_type": "code",
   "execution_count": 103,
   "metadata": {},
   "outputs": [],
   "source": [
    "# Conjunto de dados\n",
    "\n",
    "\n",
    "def generate_data():\n",
    "    np.random.seed(42)\n",
    "\n",
    "    X = pd.DataFrame(\n",
    "        {\n",
    "            \"A\": np.random.rand(100),\n",
    "            \"B\": np.random.rand(100),\n",
    "            \"C\": np.random.rand(100),\n",
    "            \"D\": np.random.rand(100),\n",
    "        }\n",
    "    )\n",
    "\n",
    "    # Alvo\n",
    "\n",
    "    y = (X[\"A\"] + X[\"B\"] > 1).astype(int)\n",
    "\n",
    "    return X, y"
   ]
  },
  {
   "cell_type": "code",
   "execution_count": 104,
   "metadata": {},
   "outputs": [],
   "source": [
    "# Função para executar a busca backward\n",
    "\n",
    "\n",
    "def backward_selection(X, y):\n",
    "\n",
    "    features = list(X.columns)\n",
    "    best_features = features.copy()\n",
    "    best_score = 0\n",
    "\n",
    "    print(\"---------------------------\")\n",
    "    print(\"Iniciando busca backward...\")\n",
    "    print(\"---------------------------\")\n",
    "\n",
    "    while len(features) > 1:\n",
    "\n",
    "        scores = {}\n",
    "\n",
    "        for feature in features:\n",
    "\n",
    "            # Criar subconjunto de atributos removendo o atual\n",
    "\n",
    "            subset = [f for f in features if f != feature]\n",
    "\n",
    "            # Dividir os dados\n",
    "\n",
    "            X_train, X_test, y_train, y_test = train_test_split(\n",
    "                X[subset], y, test_size=0.3, random_state=42\n",
    "            )\n",
    "\n",
    "            # Treinar o modelo\n",
    "\n",
    "            model = LogisticRegression()\n",
    "            model.fit(X_train, y_train)\n",
    "\n",
    "            # Avaliar o desempenho\n",
    "\n",
    "            y_pred = model.predict(X_test)\n",
    "\n",
    "            score = accuracy_score(y_test, y_pred)\n",
    "            scores[feature] = score\n",
    "\n",
    "        # Encontrar a melhor pontuação removendo 1 atributo\n",
    "\n",
    "        worst_feature = min(scores, key=scores.get)\n",
    "        features.remove(worst_feature)\n",
    "\n",
    "        print(\"---------------------------\")\n",
    "        print(\n",
    "            f\"Removendo atributo: {worst_feature}, Acurácia: {scores[worst_feature]:.4f}\"\n",
    "        )\n",
    "        print(\"---------------------------\")\n",
    "\n",
    "        # Atualizar o melhor conjunto de atributos\n",
    "\n",
    "        if scores[worst_feature] > best_score:\n",
    "            best_score = scores[worst_feature]\n",
    "            best_features = features.copy()\n",
    "\n",
    "    print(\"---------------------------\")\n",
    "    print(\"Busca concluída!\")\n",
    "    print(\"---------------------------\")\n",
    "    print(f\"Melhores atributos: {best_features}, Melhor acurácia: {best_score:.4f}\")\n",
    "\n",
    "    return best_features"
   ]
  },
  {
   "cell_type": "code",
   "execution_count": 105,
   "metadata": {},
   "outputs": [],
   "source": [
    "# Gerando os dados\n",
    "\n",
    "X, y = generate_data()"
   ]
  },
  {
   "cell_type": "code",
   "execution_count": 106,
   "metadata": {},
   "outputs": [
    {
     "name": "stdout",
     "output_type": "stream",
     "text": [
      "---------------------------\n",
      "Iniciando busca backward...\n",
      "---------------------------\n",
      "---------------------------\n",
      "Removendo atributo: A, Acurácia: 0.6333\n",
      "---------------------------\n",
      "---------------------------\n",
      "Removendo atributo: B, Acurácia: 0.4667\n",
      "---------------------------\n",
      "---------------------------\n",
      "Removendo atributo: D, Acurácia: 0.4000\n",
      "---------------------------\n",
      "---------------------------\n",
      "Busca concluída!\n",
      "---------------------------\n",
      "Melhores atributos: ['B', 'C', 'D'], Melhor acurácia: 0.6333\n"
     ]
    }
   ],
   "source": [
    "# Executando a busca backward\n",
    "\n",
    "selected_features = backward_selection(X, y)"
   ]
  }
 ],
 "metadata": {
  "kernelspec": {
   "display_name": "Python 3",
   "language": "python",
   "name": "python3"
  },
  "language_info": {
   "codemirror_mode": {
    "name": "ipython",
    "version": 3
   },
   "file_extension": ".py",
   "mimetype": "text/x-python",
   "name": "python",
   "nbconvert_exporter": "python",
   "pygments_lexer": "ipython3",
   "version": "3.13.1"
  }
 },
 "nbformat": 4,
 "nbformat_minor": 2
}
